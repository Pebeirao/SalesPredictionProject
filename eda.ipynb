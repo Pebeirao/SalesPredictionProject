{
 "cells": [
  {
   "cell_type": "code",
   "execution_count": null,
   "metadata": {},
   "outputs": [],
   "source": [
    "import pathlib\n",
    "import datetime\n",
    "import matplotlib.pyplot as plt\n",
    "import numpy as np\n",
    "\n",
    "import sys\n",
    "sys.path.append(\"/Users/kaiknauf/Downloads/MSc IS/AFCS/Project/SalesPredictionProject/src\")\n",
    "\n",
    "from pandas import read_csv, merge, to_datetime\n",
    "\n",
    "from src.sales_prediction import ROOT_DIR\n",
    "from src.sales_prediction.classes.arima.arimaMain import ArimaTraining\n",
    "from src.sales_prediction.constants.arimaConstants import ArimaModels\n",
    "from src.sales_prediction.script_internal.transformation import (\n",
    "    create_day_column,\n",
    "    summarise_sales_train_validation,\n",
    ")"
   ]
  },
  {
   "cell_type": "code",
   "execution_count": null,
   "metadata": {},
   "outputs": [],
   "source": [
    "def get_pd():\n",
    "    sales_calendar = read_csv(\n",
    "        pathlib.Path(\n",
    "            ROOT_DIR,\n",
    "            \"data\",\n",
    "            \"raw\",\n",
    "            \"calendar_afcs2023.csv\",\n",
    "        )\n",
    "    )\n",
    "    sales_train_validation = read_csv(\n",
    "        pathlib.Path(\n",
    "            ROOT_DIR,\n",
    "            \"data\",\n",
    "            \"raw\",\n",
    "            \"sales_train_validation_afcs2023.csv\",\n",
    "        )\n",
    "    )\n",
    "    \n",
    "    # return sales_train_validation\n",
    "\n",
    "    # add day variable that is a d_ plus 1 to the end of the calendar\n",
    "    sales_calendar[\"date\"] = to_datetime(sales_calendar[\"date\"], format=\"%m/%d/%Y\")\n",
    "    sales_calendar[\"day\"] = create_day_column(sales_calendar)\n",
    "\n",
    "    # summarise the sales per day by summing the sales of each item\n",
    "    sales_by_day = summarise_sales_train_validation(sales_train_validation)\n",
    "\n",
    "    # merge the two dataframes\n",
    "    sales_byday_with_date = merge(sales_by_day, sales_calendar, on=\"day\")\n",
    "\n",
    "    # set the index to be the date\n",
    "    sales_byday_with_date = sales_byday_with_date.set_index([\"date\"])\n",
    "    \n",
    "    return sales_byday_with_date"
   ]
  },
  {
   "cell_type": "code",
   "execution_count": null,
   "metadata": {},
   "outputs": [],
   "source": [
    "sales_train_validation = read_csv(\n",
    "    pathlib.Path(\n",
    "        ROOT_DIR,\n",
    "        \"data\",\n",
    "        \"raw\",\n",
    "        \"sales_train_validation_afcs2023.csv\",\n",
    "    )\n",
    ")\n",
    "\n",
    "# df = sales_train_validation \n",
    "# df['mean'] = df.iloc[:, 1:].mean(axis=1)\n",
    "# df2 = df[['mean', 'id']]\n",
    "# # df2.to_csv('df2.csv', index=False)\n",
    "# # sorted(df2['mean'], reverse=True)\n",
    "# plt.bar(df2['mean'])\n",
    "# plt.plot()"
   ]
  },
  {
   "cell_type": "markdown",
   "metadata": {},
   "source": [
    "## Head of dataframe"
   ]
  },
  {
   "cell_type": "code",
   "execution_count": null,
   "metadata": {},
   "outputs": [],
   "source": [
    "df = get_pd()\n",
    "df.head()"
   ]
  },
  {
   "cell_type": "markdown",
   "metadata": {},
   "source": [
    "## Statistics"
   ]
  },
  {
   "cell_type": "code",
   "execution_count": null,
   "metadata": {},
   "outputs": [],
   "source": [
    "mean = np.mean(df['sales'])\n",
    "std = np.std(df['sales'])\n",
    "var = np.var(df['sales'])\n",
    "\n",
    "print(f\"Mean: {mean}\")\n",
    "print(f\"Variance: {var}\")\n",
    "print(f\"Standard Deviation: {std}\")"
   ]
  },
  {
   "cell_type": "markdown",
   "metadata": {},
   "source": [
    "## Plot all train data"
   ]
  },
  {
   "cell_type": "code",
   "execution_count": null,
   "metadata": {},
   "outputs": [],
   "source": [
    "df = get_pd()\n",
    "\n",
    "plt.plot(df['sales'])\n",
    "plt.show()"
   ]
  },
  {
   "cell_type": "markdown",
   "metadata": {},
   "source": [
    "## Plot 2015-2016\n",
    "This plot shows the sales per day from 04-2015 till 05-2016 with highlighted events that lead to a change in sales that is more than one standard deviation from the mean."
   ]
  },
  {
   "cell_type": "code",
   "execution_count": null,
   "metadata": {},
   "outputs": [],
   "source": [
    "df = get_pd()\n",
    "\n",
    "fig, ax = plt.subplots()\n",
    "df_year = df.iloc[-365:]\n",
    "df_year['idx'] = df_year.index\n",
    "ax.plot(df_year['sales'])\n",
    "\n",
    "for index, row in df_year.iterrows():\n",
    "    if type(row['event_name_1']) != float and (row['sales'] > mean + std or row['sales'] < mean - std):\n",
    "        ax.text(row['idx'], -50, row['event_name_1'], rotation=90, size=7.5)"
   ]
  },
  {
   "cell_type": "markdown",
   "metadata": {},
   "source": [
    "## Check stationary"
   ]
  },
  {
   "cell_type": "code",
   "execution_count": null,
   "metadata": {},
   "outputs": [],
   "source": [
    "from statsmodels.tsa.stattools import adfuller\n",
    "\n",
    "# Assuming your time series data is stored in a variable called 'data'\n",
    "result = adfuller(df['sales'])\n",
    "\n",
    "# Extracting and printing the test statistic and p-value\n",
    "print('ADF Statistic:', result[0])\n",
    "print('p-value:', result[1])"
   ]
  },
  {
   "cell_type": "code",
   "execution_count": null,
   "metadata": {},
   "outputs": [],
   "source": [
    "# !pip install ydata_profiling\n",
    "from ydata_profiling import ProfileReport\n",
    "\n",
    "report = ProfileReport(df, title='My Data')\n",
    "report.to_file(\"my_report.html\")"
   ]
  }
 ],
 "metadata": {
  "kernelspec": {
   "display_name": "Python 3",
   "language": "python",
   "name": "python3"
  },
  "language_info": {
   "codemirror_mode": {
    "name": "ipython",
    "version": 3
   },
   "file_extension": ".py",
   "mimetype": "text/x-python",
   "name": "python",
   "nbconvert_exporter": "python",
   "pygments_lexer": "ipython3",
   "version": "3.10.13"
  }
 },
 "nbformat": 4,
 "nbformat_minor": 2
}
